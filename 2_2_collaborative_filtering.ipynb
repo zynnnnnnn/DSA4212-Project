{
  "cells": [
    {
      "cell_type": "markdown",
      "source": [
        "<h1><center>DSA 4212: Year 2022</center></h1>\n",
        "<h3><center> Assignment 2 </center></h3>\n",
        "<h4><center> Group Number: 05 </center></h4>\n",
        "\n",
        "<h4><center> Group Member 1: Zhou Yunong, A0194565R </center></h4>\n",
        "<h4><center> Group Member 2: Zhang Jingyuan, A0190119J </center></h4>\n",
        "<h4><center> Group Member 3: Zhang Manman, A0194543Y </center></h4>\n",
        "<h4><center> Group Member 4: Zhu Qianqian, A0188076R </center></h4>"
      ],
      "metadata": {
        "id": "ZTKCa56R0i_B"
      }
    },
    {
      "cell_type": "code",
      "execution_count": null,
      "metadata": {
        "id": "O05L4_4VpkDg"
      },
      "outputs": [],
      "source": [
        "import jax\n",
        "from jax.config import config\n",
        "config.update('jax_enable_x64', True)  # often needed for LBFGS that requires high-precision\n",
        "\n",
        "\n",
        "import jax.numpy as jnp\n",
        "import numpy as np\n",
        "import pylab as plt\n",
        "from numpy.linalg import norm\n",
        "\n",
        "import imageio\n",
        "import os\n",
        "from skimage.transform import rescale, resize, downscale_local_mean\n",
        "import pandas as pd\n",
        "import time\n",
        "import scipy\n",
        "from scipy import sparse\n",
        "from scipy.sparse import csr_matrix\n",
        "\n",
        "from sklearn.model_selection import train_test_split\n",
        "from sklearn.metrics import mean_squared_error, r2_score\n",
        "from sklearn.utils.extmath import randomized_svd"
      ]
    },
    {
      "cell_type": "code",
      "source": [
        "# importing the necessary libraries\n",
        "#from surprise import Reader, Dataset\n",
        "from scipy.sparse import csr_matrix\n",
        "from datetime import datetime\n",
        "from scipy import sparse\n",
        "#from surprise import Reader, Dataset,SVD\n",
        "from sklearn.utils.extmath import randomized_svd"
      ],
      "metadata": {
        "id": "Ak9efH89jSH-"
      },
      "execution_count": null,
      "outputs": []
    },
    {
      "cell_type": "code",
      "execution_count": null,
      "metadata": {
        "colab": {
          "base_uri": "https://localhost:8080/"
        },
        "id": "Y2Foxyk-rFUp",
        "outputId": "6f35d123-9446-45ae-a4ff-2c88cffa1aad"
      },
      "outputs": [
        {
          "output_type": "stream",
          "name": "stdout",
          "text": [
            "Mounted at /content/drive\n"
          ]
        }
      ],
      "source": [
        "# 删掉\n",
        "from google.colab import drive\n",
        "drive.mount('/content/drive')"
      ]
    },
    {
      "cell_type": "markdown",
      "metadata": {
        "id": "h9rmbhc6qfuq"
      },
      "source": [
        "### Data"
      ]
    },
    {
      "cell_type": "code",
      "execution_count": null,
      "metadata": {
        "id": "fY-d3IvprEfv"
      },
      "outputs": [],
      "source": [
        "#User information\n",
        "unames = ['user_id','gender','age','occupation','zip']\n",
        "users = pd.read_table(\"users.dat\", sep='::',\n",
        "                      header=None, names=unames, engine='python')\n",
        "#Rating information\n",
        "rnames = ['user_id','movie_id','rating','timestamp']\n",
        "ratings = pd.read_table(\"ratings.dat\", sep='::', header=None, names=rnames, engine='python')\n",
        "#Movie information\n",
        "mnames = ['movie_id','title','genres']\n",
        "movies = pd.read_table(\"movies.dat\", sep='::', header=None, names=mnames, engine='python',encoding='ISO-8859-1')"
      ]
    },
    {
      "cell_type": "code",
      "execution_count": null,
      "metadata": {
        "colab": {
          "base_uri": "https://localhost:8080/"
        },
        "id": "Ye_CY6Cdpyf1",
        "outputId": "0cb7d42a-a500-4634-9169-d52999060cff"
      },
      "outputs": [
        {
          "output_type": "stream",
          "name": "stdout",
          "text": [
            "(1000209, 4)\n",
            "(6040, 5)\n",
            "(3883, 3)\n"
          ]
        }
      ],
      "source": [
        "print(ratings.shape)\n",
        "print(users.shape)\n",
        "print(movies.shape)"
      ]
    },
    {
      "cell_type": "code",
      "execution_count": null,
      "metadata": {
        "id": "lV5FdaI_eH84"
      },
      "outputs": [],
      "source": [
        "#training: 90%, testing: 10%\n",
        "train,test = train_test_split(ratings, test_size=0.1)"
      ]
    },
    {
      "cell_type": "code",
      "execution_count": null,
      "metadata": {
        "id": "n6tsWeL8qlRS"
      },
      "outputs": [],
      "source": [
        "def train_test_matrix(train, test):\n",
        "    \"\"\"\n",
        "    build the corresponding rating matrix, A for train and test data\n",
        "    \"\"\"\n",
        "    n_user = ratings.user_id.nunique()+1\n",
        "    #n_movie = ratings.movie_id.nunique()\n",
        "    n_movie = max(ratings['movie_id'])+1\n",
        "    train,test = train_test_split(ratings, test_size=0.1)\n",
        "\n",
        "    #fill up the matrices\n",
        "    def func1(x):\n",
        "        A_train[x[0],x[1]] = x[2]\n",
        "        return x\n",
        "    def func2(x):\n",
        "        A_test[x[0],x[1]] = x[2]\n",
        "        return x\n",
        "    A_train = np.zeros((n_user, n_movie))\n",
        "    A_test = np.zeros((n_user, n_movie))\n",
        "    train.apply(func1, axis=1)\n",
        "    test.apply(func2,axis=1)\n",
        "    return A_train, A_test"
      ]
    },
    {
      "cell_type": "code",
      "execution_count": null,
      "metadata": {
        "id": "LY1ALYWJ3PzM"
      },
      "outputs": [],
      "source": [
        "#train and test matrix\n",
        "A_train,A_test = train_test_matrix(train, test)"
      ]
    },
    {
      "cell_type": "markdown",
      "metadata": {
        "id": "Iom21v7SxiVJ"
      },
      "source": [
        "###Baseline model using global mean"
      ]
    },
    {
      "cell_type": "code",
      "execution_count": null,
      "metadata": {
        "id": "tz776W6KRxfo"
      },
      "outputs": [],
      "source": [
        "#convert from df to array to allow jax\n",
        "train_base = np.array(A_train)\n",
        "test_base = np.array(A_test)"
      ]
    },
    {
      "cell_type": "code",
      "source": [
        "def RMSE(y_true,y_pred,index):\n",
        "    error = y_true[index] - y_pred[index]\n",
        "    return jnp.sqrt(jnp.mean(error**2))"
      ],
      "metadata": {
        "id": "r0eAY-H0az6f"
      },
      "execution_count": null,
      "outputs": []
    },
    {
      "cell_type": "code",
      "source": [
        "# train rmse\n",
        "index_train_base = np.nonzero(train_base)\n",
        "mu = train_base[index_train_base].mean()\n",
        "y_pred_train = np.full((train_base.shape[0], train_base.shape[1]), mu)\n",
        "train_rmse = RMSE(train_base, y_pred_train,index_train_base)\n",
        "train_rmse"
      ],
      "metadata": {
        "id": "UrGJCrmua3Qe",
        "colab": {
          "base_uri": "https://localhost:8080/"
        },
        "outputId": "8a5e8eaf-f7ec-42bf-8341-8023103b2b6b"
      },
      "execution_count": null,
      "outputs": [
        {
          "output_type": "stream",
          "name": "stderr",
          "text": [
            "WARNING:absl:No GPU/TPU found, falling back to CPU. (Set TF_CPP_MIN_LOG_LEVEL=0 and rerun for more info.)\n"
          ]
        },
        {
          "output_type": "execute_result",
          "data": {
            "text/plain": [
              "DeviceArray(1.11701321, dtype=float64)"
            ]
          },
          "metadata": {},
          "execution_count": 12
        }
      ]
    },
    {
      "cell_type": "code",
      "source": [
        "# test rmse\n",
        "index_test_base = np.nonzero(test_base)\n",
        "y_pred_test = np.full((test_base.shape[0], test_base.shape[1]), mu)\n",
        "test_rmse = RMSE(test_base, y_pred_test,index_test_base)\n",
        "test_rmse"
      ],
      "metadata": {
        "id": "_wENTolka73U",
        "colab": {
          "base_uri": "https://localhost:8080/"
        },
        "outputId": "0cbae62b-04a4-4d7e-b211-e3b41ae3c882"
      },
      "execution_count": null,
      "outputs": [
        {
          "output_type": "execute_result",
          "data": {
            "text/plain": [
              "DeviceArray(1.11789375, dtype=float64)"
            ]
          },
          "metadata": {},
          "execution_count": 13
        }
      ]
    },
    {
      "cell_type": "code",
      "source": [
        "print(\"Train RMSE is : {} and Test RMSE : {}\".format(train_rmse,test_rmse))"
      ],
      "metadata": {
        "id": "QTe_8uIza-GG",
        "colab": {
          "base_uri": "https://localhost:8080/"
        },
        "outputId": "8150f691-1a11-4ea8-9eaa-0f1a4bc447c3"
      },
      "execution_count": null,
      "outputs": [
        {
          "output_type": "stream",
          "name": "stdout",
          "text": [
            "Train RMSE is : 1.1170132088569187 and Test RMSE : 1.1178937512236475\n"
          ]
        }
      ]
    },
    {
      "cell_type": "markdown",
      "source": [
        "#Matrix Factorization"
      ],
      "metadata": {
        "id": "QVYitXPGRW4A"
      }
    },
    {
      "cell_type": "markdown",
      "metadata": {
        "id": "TR3aY3T5LF2-"
      },
      "source": [
        "### Naive Matrix Factorization"
      ]
    },
    {
      "cell_type": "code",
      "execution_count": null,
      "metadata": {
        "id": "C-lvtWDCCmj-"
      },
      "outputs": [],
      "source": [
        "A = A_train"
      ]
    },
    {
      "cell_type": "code",
      "execution_count": null,
      "metadata": {
        "id": "kBpxAz6HMOGc"
      },
      "outputs": [],
      "source": [
        "#RMSE function\n",
        "index = np.nonzero(A)\n",
        "@jax.jit\n",
        "def RMSE(U,V,A):\n",
        "    UV = U @ V\n",
        "    #scalisation\n",
        "    min_num = np.min(UV)\n",
        "    UV = UV - min_num\n",
        "    max_num = np.max(UV)\n",
        "    uv = (UV/max_num)*4 + 1\n",
        "    error = A[index] - uv[index]\n",
        "    return jnp.sqrt(jnp.mean(error**2))\n",
        "\n",
        "RMSE_grad_u = jax.jit( jax.grad(RMSE, argnums=0) )\n",
        "RMSE_grad_v = jax.jit( jax.grad(RMSE, argnums=1) )\n",
        "\n",
        "#initialise dimensions\n",
        "m,n = A.shape\n",
        "m,n\n",
        "r=15\n",
        "U_init = np.random.normal(0,1,size=(m,r))\n",
        "V_init = np.random.normal(0,1,size=(r,n))\n",
        "grad_u = RMSE_grad_u(U_init,V_init,A)\n",
        "grad_v = RMSE_grad_v(U_init,V_init,A)\n",
        "\n",
        "U,V = np.copy(U_init), np.copy(V_init)"
      ]
    },
    {
      "cell_type": "code",
      "execution_count": null,
      "metadata": {
        "id": "_uPJRuUfRGEg"
      },
      "outputs": [],
      "source": [
        "# parallel update of parameters\n",
        "niter = 200\n",
        "learning_rate = 0.5\n",
        "beta = 0.02\n",
        "trainLoss_history = []\n",
        "testLoss_history = []\n",
        "testRow = test.shape[0]\n",
        "for _ in range(niter):\n",
        "    # compute the gradients\n",
        "    grad_u = RMSE_grad_u(U,V,A)\n",
        "    grad_v = RMSE_grad_v(U,V,A)\n",
        "\n",
        "    # do the gradient updates\n",
        "    U = U - learning_rate * (grad_u + beta*U)\n",
        "    V = V - learning_rate * (grad_v + beta*V)\n",
        "\n",
        "    # check the loss for monitoring purposes\n",
        "    train_loss = RMSE(U,V,A)\n",
        "    test_loss = RMSE(U,V,A_test)\n",
        "    trainLoss_history.append(train_loss)\n",
        "    testLoss_history.append(test_loss)\n",
        ""
      ]
    },
    {
      "cell_type": "code",
      "source": [
        "plt.plot(trainLoss_history, color = \"blue\",label = \"Train error\")\n",
        "plt.plot(testLoss_history, color = \"red\",label = \"Test error\")\n",
        "plt.legend(loc= \"best\")\n",
        "plt.title(\"Naive Matrix Factorization\")\n",
        "plt.grid()"
      ],
      "metadata": {
        "colab": {
          "base_uri": "https://localhost:8080/",
          "height": 281
        },
        "id": "xgwS5ggcJOBk",
        "outputId": "218e2422-f55f-46d5-c560-7e655f4d5ffb"
      },
      "execution_count": null,
      "outputs": [
        {
          "output_type": "display_data",
          "data": {
            "text/plain": [
              "<Figure size 432x288 with 1 Axes>"
            ],
            "image/png": "[encoded data removed]"
          },
          "metadata": {
            "needs_background": "light"
          }
        }
      ]
    },
    {
      "cell_type": "code",
      "execution_count": null,
      "metadata": {
        "id": "eH4BKGkZhdml",
        "outputId": "ee15803d-b470-4df0-a9f0-292ed4e1bdf4",
        "colab": {
          "base_uri": "https://localhost:8080/"
        }
      },
      "outputs": [
        {
          "output_type": "stream",
          "name": "stdout",
          "text": [
            "Train RMSE is : 1.1170065458645566 and Test RMSE : 3.5814364763118487\n"
          ]
        }
      ],
      "source": [
        "train_rmse = min(trainLoss_history)\n",
        "test_rmse = min(testLoss_history)\n",
        "print(\"Train RMSE is : {} and Test RMSE : {}\".format(train_rmse,test_rmse))"
      ]
    },
    {
      "cell_type": "markdown",
      "metadata": {
        "id": "xXUZ_naoprBF"
      },
      "source": [
        "### Non-negative Matrix Factorization"
      ]
    },
    {
      "cell_type": "code",
      "execution_count": null,
      "metadata": {
        "id": "h4JbEDRop2Ex",
        "colab": {
          "base_uri": "https://localhost:8080/"
        },
        "outputId": "805cef1e-0085-49e4-e42c-285387b0373d"
      },
      "outputs": [
        {
          "output_type": "stream",
          "name": "stdout",
          "text": [
            "user id starts from 0 and item id starts from 0\n"
          ]
        }
      ],
      "source": [
        "n_item = movies.shape[0]\n",
        "n_user = users.shape[0]\n",
        "print('user id starts from %d and item id starts from %d'%(users.user_id.describe()['min'],\n",
        "                                                          movies.movie_id.describe()['min']) )"
      ]
    },
    {
      "cell_type": "code",
      "execution_count": null,
      "metadata": {
        "id": "Qj577Ydsp37n"
      },
      "outputs": [],
      "source": [
        "# indexing userid, movieid from 0\n",
        "movies['movie_id'] = movies['movie_id'].apply(lambda x: x - 1)\n",
        "users['user_id'] = users['user_id'].apply(lambda x: x - 1)\n",
        "ratings['movie_id'] = ratings['movie_id'].apply(lambda x: x - 1)\n",
        "ratings['user_id'] = ratings['user_id'].apply(lambda x: x - 1)"
      ]
    },
    {
      "cell_type": "markdown",
      "metadata": {
        "id": "7TcU-jVUqI_6"
      },
      "source": [
        "Rating Matrix:"
      ]
    },
    {
      "cell_type": "markdown",
      "metadata": {
        "id": "QmhnT4zCqDbg"
      },
      "source": [
        "\n",
        "$$A^{user\\hspace{1mm} \\times \\hspace{1mm}movie}$$\n"
      ]
    },
    {
      "cell_type": "markdown",
      "metadata": {
        "id": "4yinYFKoqL_A"
      },
      "source": [
        "Low Rank Matrix:"
      ]
    },
    {
      "cell_type": "markdown",
      "metadata": {
        "id": "meMuLLnzqOiK"
      },
      "source": [
        "$$U^{user\\hspace{1mm} \\times \\hspace{1mm}rank}$$"
      ]
    },
    {
      "cell_type": "markdown",
      "metadata": {
        "id": "-oAmksPiqQ5h"
      },
      "source": [
        "$$V^{movie\\hspace{1mm} \\times \\hspace{1mm}rank}$$"
      ]
    },
    {
      "cell_type": "markdown",
      "metadata": {
        "id": "o9vkgcXMqThz"
      },
      "source": [
        "$$\\text{𝑤ℎ𝑒𝑟𝑒 𝑟𝑎𝑛𝑘 = 𝑛}$$"
      ]
    },
    {
      "cell_type": "markdown",
      "metadata": {
        "id": "k8jWnDK2qntT"
      },
      "source": [
        "#### matrix factorizer"
      ]
    },
    {
      "cell_type": "code",
      "execution_count": null,
      "metadata": {
        "id": "d-u9nJiYqpfm"
      },
      "outputs": [],
      "source": [
        "class MF:\n",
        "    \"\"\"\n",
        "    Matrix factorization class.\n",
        "    \"\"\"\n",
        "    def __init__(self,lambda1 = 0.01, learning_rate=0.001, max_iteration=10000, rank=10, verbose=True, gap=None):\n",
        "        \"\"\"\n",
        "        params\n",
        "        ------\n",
        "        lambda1: float. Regularizer parameter.\n",
        "\n",
        "        learning_rate: float. Learning rate of SGD\n",
        "\n",
        "        max_iteration: int.\n",
        "\n",
        "        rank: int. Embedding dimension of the U,V matrix where A = U.V\n",
        "\n",
        "        verbose: bool. Whether to print iteration log or not.\n",
        "\n",
        "        gap: bool.\n",
        "            Gap between each iteration log when verbose is true. Default value is 10th factor of max_iteration.\n",
        "        \"\"\"\n",
        "        self.lambda1 = lambda1\n",
        "        self.learning_rate = learning_rate\n",
        "        self.max_iteration = max_iteration\n",
        "        self.rank = rank\n",
        "        self.verbose = verbose\n",
        "        self.gap = gap\n",
        "        self.U = None\n",
        "        self.V = None\n",
        "        self.gap = (max_iteration / 10) if gap is None else gap\n",
        "\n",
        "\n",
        "    def rmse(self, actual, pred):\n",
        "        \"\"\"Returns the rmse of nonzero errors\"\"\"\n",
        "        for a in range(0,pred.shape[0]):\n",
        "            for b in range(0,pred.shape[1]):\n",
        "                if pred[a][b] > 5:\n",
        "                    pred[a][b] = 5\n",
        "                elif pred[a][b] < 1:\n",
        "                    pred[a][b] = 1\n",
        "        pred = pred[actual.nonzero()].flatten()\n",
        "        actual = actual[actual.nonzero()].flatten()\n",
        "        return mean_squared_error(actual, pred, squared=False)\n",
        "\n",
        "\n",
        "    def predict(self,query_embedding,name='Aladdin',measure='cosine'):\n",
        "        \"\"\"\n",
        "        params\n",
        "        ------\n",
        "        query_embedding: 1D array.\n",
        "            Query's embeddding vector. For example if we want to find similar movies like Aladdin,\n",
        "            query_embedding will be Aladdin's vector from V.\n",
        "        V: array-like. 2d. Item embedding.\n",
        "        name: str. Movie name.\n",
        "        measure: {dot,cosine}\n",
        "            similarity measure for query and V.\n",
        "\n",
        "        returns\n",
        "        -------\n",
        "        sim_vector: similarity vector between query_embedding and V.\n",
        "        \"\"\"\n",
        "        u = query_embedding\n",
        "        V = self.V\n",
        "        if measure == 'cosine':\n",
        "            V = V / np.linalg.norm(V, axis=1, keepdims=True)\n",
        "            u = u / np.linalg.norm(u)\n",
        "        sim_vector = u.dot(V.T)\n",
        "        return sim_vector\n",
        "\n",
        "\n",
        "    def SGD(self,A,rated_rows,rated_cols,A_test=None):\n",
        "        \"\"\"\n",
        "        params\n",
        "        ------\n",
        "        A: 2D array. shape(n_user,n_item)\n",
        "            Training rating matrix.\n",
        "\n",
        "        rated_rows: 1D array.\n",
        "            Observed indices rows from A. Meaning i where A_{i,j} > 0.\n",
        "\n",
        "        rated_cols: 1D array.\n",
        "            Observed indices' column from A. Meaning j where A_{i,j} > 0.\n",
        "\n",
        "        \"\"\"\n",
        "        self.history= []\n",
        "        for itr in range(self.max_iteration):\n",
        "            # choosing an observed user,movie combination\n",
        "            u = np.random.choice(rated_rows)\n",
        "            m = np.random.choice(rated_cols)\n",
        "            #forward pass\n",
        "            error = A[u,m] - np.dot(self.U[u], self.V[m])\n",
        "            # backward pass\n",
        "            tmp = self.U[u]\n",
        "            self.U[u] = self.U[u] + self.learning_rate * (error * self.V[m] - self.lambda1 * self.U[u])\n",
        "            self.V[m] = self.V[m] + self.learning_rate * (error * tmp - self.lambda1 * self.V[m])\n",
        "\n",
        "            if (itr % self.gap) == 0 or itr == self.max_iteration - 1:\n",
        "                A_hat = np.dot(self.U,self.V.T)\n",
        "                train_rmse = self.rmse(A,A_hat)\n",
        "                test_rmse = -1\n",
        "                if isinstance(A_test,np.ndarray):\n",
        "                    test_rmse = self.rmse(A_test,A_hat)\n",
        "                self.history.append((train_rmse,test_rmse))\n",
        "                if self.verbose==True:\n",
        "                    print(\"iteration %d, TrainRMSE: %.2f TestRMSE: %.2f\"%\n",
        "                          (itr,train_rmse,test_rmse))\n",
        "\n",
        "    def fit(self,A,A_test=None):\n",
        "        \"\"\"\n",
        "        Fit the U,V to A.\n",
        "        \"\"\"\n",
        "        rated_rows,rated_cols = A.nonzero()\n",
        "        n_user = A.shape[0]\n",
        "        n_movie = A.shape[1]\n",
        "        if self.U is None:\n",
        "            self.U = np.random.rand(n_user,self.rank)\n",
        "            self.V = np.random.rand(n_movie,self.rank)\n",
        "\n",
        "        # used in verbose mode\n",
        "        self.SGD(A,rated_rows,rated_cols,A_test)\n",
        "\n",
        "    def graph(self,testset=False):\n",
        "        \"\"\"\n",
        "        Training and test graph with other meta data.\n",
        "        \"\"\"\n",
        "        fig, ax = plt.subplots(facecolor='white',figsize=(10,5))\n",
        "        train = [w[0] for w in self.history]\n",
        "        test = [w[1] for w in self.history]\n",
        "        x = list(range(0,self.max_iteration+2,int(self.gap)))\n",
        "        ax.plot(x,train,color='red',label='Train RMSE')\n",
        "        if testset==True:\n",
        "            ax.plot(x,test,color='green',label='Test RMSE')\n",
        "        ax.legend()\n",
        "        ax.grid(True)\n",
        "        ax.set_xlabel(\"Iteration\")\n",
        "        ax.set_ylabel(\"RMSE\")\n",
        "        caption = f'lambda: {lambda1} learning_rate: {self.learning_rate} iteration: {self.max_iteration}'\n",
        "        plt.title(caption)\n",
        "        plt.show()"
      ]
    },
    {
      "cell_type": "markdown",
      "metadata": {
        "id": "jx4WvW0gqvn6"
      },
      "source": [
        "####model fitting"
      ]
    },
    {
      "cell_type": "code",
      "execution_count": null,
      "metadata": {
        "id": "M-bF7PGSq36b",
        "colab": {
          "base_uri": "https://localhost:8080/",
          "height": 537
        },
        "outputId": "990dc0e2-5a8a-4d50-ea60-e7aae9484d96"
      },
      "outputs": [
        {
          "output_type": "stream",
          "name": "stdout",
          "text": [
            "iteration 0, TrainRMSE: 1.80 TestRMSE: 1.80\n",
            "iteration 15000, TrainRMSE: 1.79 TestRMSE: 1.79\n",
            "iteration 30000, TrainRMSE: 1.77 TestRMSE: 1.77\n",
            "iteration 45000, TrainRMSE: 1.73 TestRMSE: 1.73\n",
            "iteration 60000, TrainRMSE: 1.68 TestRMSE: 1.68\n",
            "iteration 75000, TrainRMSE: 1.63 TestRMSE: 1.64\n",
            "iteration 90000, TrainRMSE: 1.60 TestRMSE: 1.61\n",
            "iteration 105000, TrainRMSE: 1.59 TestRMSE: 1.59\n",
            "iteration 120000, TrainRMSE: 1.58 TestRMSE: 1.59\n",
            "iteration 135000, TrainRMSE: 1.58 TestRMSE: 1.59\n",
            "iteration 149999, TrainRMSE: 1.60 TestRMSE: 1.61\n"
          ]
        },
        {
          "output_type": "display_data",
          "data": {
            "text/plain": [
              "<Figure size 720x360 with 1 Axes>"
            ],
            "image/png": "[encoded data removed]"
          },
          "metadata": {}
        }
      ],
      "source": [
        "lambda1 = 0.1\n",
        "lr = 0.001\n",
        "max_iter = 150000\n",
        "gap = max_iter / 10\n",
        "view = True\n",
        "\n",
        "model = MF(lambda1, learning_rate=lr, max_iteration=max_iter, rank=30, verbose=True)\n",
        "model.fit(A_train, A_test)\n",
        "model.graph(testset=True)"
      ]
    },
    {
      "cell_type": "markdown",
      "metadata": {
        "id": "tPc21SOpJldh"
      },
      "source": [
        "### Probabilistic Matrix Factorization"
      ]
    },
    {
      "cell_type": "code",
      "execution_count": null,
      "metadata": {
        "id": "nlxGeCrBJw7X"
      },
      "outputs": [],
      "source": [
        "m= A_train.shape[0]\n",
        "n= A_train.shape[1]\n",
        "r=10 #\n",
        "sig_U = np.sqrt(5)\n",
        "sig_V = np.sqrt(5)\n",
        "U_init = np.random.normal(0,sig_U,size=(m,r))\n",
        "V_init = np.random.normal(0,sig_V,size=(r,n))\n",
        "\n"
      ]
    },
    {
      "cell_type": "code",
      "execution_count": null,
      "metadata": {
        "id": "z9535zTTKbP9"
      },
      "outputs": [],
      "source": [
        "def loss(U,V,A,index):\n",
        "  #UV = U @ V\n",
        "  #l1 = jnp.mean(0.5*(A[index]-(U@V)[index])**2 )\n",
        "  #l2 = jnp.mean( (U.T @ U) )\n",
        "  #l3 = jnp.mean( (V.T @ V) )\n",
        "  R = A[index]\n",
        "  lam_U = 0.01\n",
        "  lam_V = 0.01\n",
        "  return jnp.mean(0.5*(R-(U@V)[index])**2 ) + lam_U*jnp.mean( (U.T @ U) ) + lam_V*jnp.mean( (V.T @ V) )"
      ]
    },
    {
      "cell_type": "code",
      "execution_count": null,
      "metadata": {
        "id": "uc4T9DTxKdf6"
      },
      "outputs": [],
      "source": [
        "loss_grad_u = jax.jit( jax.grad(loss, argnums=0) )\n",
        "loss_grad_v = jax.jit( jax.grad(loss, argnums=1) )"
      ]
    },
    {
      "cell_type": "code",
      "execution_count": null,
      "metadata": {
        "id": "FQbVr9R4KfwD"
      },
      "outputs": [],
      "source": [
        "def RMSE(U,V,A,index):\n",
        "    UV = U @ V\n",
        "    error = A[index] - UV[index]\n",
        "    return jnp.sqrt(jnp.mean(error**2))"
      ]
    },
    {
      "cell_type": "code",
      "execution_count": null,
      "metadata": {
        "id": "RlANukn4NZQ-"
      },
      "outputs": [],
      "source": [
        "# sequential update of parameters\n",
        "def run_GD(U,V,A_train,A_test):\n",
        "    index_train = np.nonzero(A_train)\n",
        "    index_test = np.nonzero(A_test)\n",
        "    niter = 1000\n",
        "    learning_rate = 10 #1\n",
        "    loss_train_history = []\n",
        "    loss_test_history = []\n",
        "\n",
        "    for _ in range(niter):\n",
        "\n",
        "      grad_u= loss_grad_u(U,V,A_train,index_train)\n",
        "      U = U - learning_rate * grad_u\n",
        "\n",
        "      grad_v = loss_grad_v(U,V,A_train,index_train)\n",
        "      V = V - learning_rate * grad_v\n",
        "\n",
        "    # check the loss for monitoring purposes\n",
        "      current_loss_train = RMSE(U,V,A_train,index_train)\n",
        "      current_loss_test = RMSE(U,V,A_test, index_test)\n",
        "\n",
        "      loss_train_history.append(current_loss_train)\n",
        "      loss_test_history.append(current_loss_test)\n",
        "\n",
        "    return loss_train_history,loss_test_history\n",
        ""
      ]
    },
    {
      "cell_type": "code",
      "execution_count": null,
      "metadata": {
        "id": "KjWsKxL_GARK"
      },
      "outputs": [],
      "source": [
        "\n",
        "loss_train, loss_test = run_GD(U_init,V_init,A_train,A_test)\n"
      ]
    },
    {
      "cell_type": "code",
      "execution_count": null,
      "metadata": {
        "id": "vhnRAaLMNlfE",
        "colab": {
          "base_uri": "https://localhost:8080/",
          "height": 298
        },
        "outputId": "caab1418-928d-4599-cb79-3f05d9027c7b"
      },
      "outputs": [
        {
          "output_type": "execute_result",
          "data": {
            "text/plain": [
              "Text(0.5, 1.0, 'Probabilistic Matrix Factorization')"
            ]
          },
          "metadata": {},
          "execution_count": 33
        },
        {
          "output_type": "display_data",
          "data": {
            "text/plain": [
              "<Figure size 432x288 with 1 Axes>"
            ],
            "image/png": "[encoded data removed]"
          },
          "metadata": {
            "needs_background": "light"
          }
        }
      ],
      "source": [
        "plt.plot(loss_train,color = \"red\", label = \"Train error\")\n",
        "plt.plot(loss_test,color = \"blue\", label = \"Test error\")\n",
        "plt.legend(loc= \"best\")\n",
        "plt.grid()\n",
        "plt.title(\"Probabilistic Matrix Factorization\")"
      ]
    },
    {
      "cell_type": "code",
      "source": [
        "train_rmse = min(loss_train)\n",
        "test_rmse = min(loss_test)\n",
        "print(\"Train RMSE is : {} and Test RMSE : {}\".format(train_rmse,test_rmse))"
      ],
      "metadata": {
        "colab": {
          "base_uri": "https://localhost:8080/"
        },
        "id": "ra3kkwwVQs1N",
        "outputId": "c5f9c2fd-8a42-4e60-d956-e4f3e5028ea7"
      },
      "execution_count": null,
      "outputs": [
        {
          "output_type": "stream",
          "name": "stdout",
          "text": [
            "Train RMSE is : 1.406653331282011 and Test RMSE : 1.4045289832221766\n"
          ]
        }
      ]
    },
    {
      "cell_type": "markdown",
      "metadata": {
        "id": "WrorPK9w1Vk3"
      },
      "source": [
        "##Singular Value Decomposition"
      ]
    },
    {
      "cell_type": "code",
      "execution_count": null,
      "metadata": {
        "id": "RpxUmD8v2K_a"
      },
      "outputs": [],
      "source": [
        "train_data, test_data = train, test"
      ]
    },
    {
      "cell_type": "code",
      "execution_count": null,
      "metadata": {
        "id": "aFMSSUNFXhuP"
      },
      "outputs": [],
      "source": [
        "# creating sparse matrix representation our dataframes\n",
        "test_sparse_matrix = sparse.csr_matrix((test_data.rating.values, (test_data.user_id.values,\n",
        "                                               test_data.movie_id.values)))\n",
        "\n",
        "train_sparse_matrix = sparse.csr_matrix((train_data.rating.values, (train_data.user_id.values,\n",
        "                                               train_data.movie_id.values)))"
      ]
    },
    {
      "cell_type": "code",
      "execution_count": null,
      "metadata": {
        "id": "78dHkCDBYXD0"
      },
      "outputs": [],
      "source": [
        "# methods to compute gradients\n",
        "def derivative_db(user_id,item_id,rating,U,V,mu,alpha, b_i, c_j):\n",
        "    '''In this function, we will compute dL/db_i'''\n",
        "    loss =  (2*alpha*b_i[user_id]) - 2*(rating - mu - b_i[user_id] - c_j[item_id] - np.dot(U[user_id],V.T[item_id]))\n",
        "    return loss\n",
        "def derivative_dc(user_id,item_id,rating,U,V,mu,alpha, b_i, c_j):\n",
        "    '''In this function, we will compute dL/dc_j'''\n",
        "    loss =  (2*alpha*c_j[item_id]) - 2*(rating - mu - b_i[user_id] - c_j[item_id] - np.dot(U[user_id],V.T[item_id]))\n",
        "    return loss"
      ]
    },
    {
      "cell_type": "code",
      "execution_count": null,
      "metadata": {
        "id": "Z2LpmveyYdlc"
      },
      "outputs": [],
      "source": [
        "def get_prediction(df,b_i,c_j,mu, U, V):\n",
        "    '''calculates net rmse'''\n",
        "    y_true = []\n",
        "    y_pred = []\n",
        "    for user,movie,rate in df[['user_id','movie_id','rating']].values:\n",
        "        try:\n",
        "            y_hat = mu + b_i[user] + c_j[movie] + np.dot(U[user],V.T[movie])\n",
        "        except:\n",
        "            # handling cold start problem assigning global average for test users/movies not in training set\n",
        "            y_hat = mu\n",
        "        y_true.append(rate)\n",
        "        y_pred.append(y_hat)\n",
        "    ymin=min(y_pred)\n",
        "    ymax=max(y_pred)\n",
        "    y_pred=(y_pred-ymin)/(ymax-ymin)*4+1\n",
        "    return mean_squared_error(y_true,y_pred)"
      ]
    },
    {
      "cell_type": "code",
      "execution_count": null,
      "metadata": {
        "id": "VtYjYibeYgJ_"
      },
      "outputs": [],
      "source": [
        "def fit_recommender(total_epochs,learning_rate,train_sparse_matrix,train_df,test_df,svd_components = 5):\n",
        "    '''learns parameters for the recommednder'''\n",
        "    dim= train_sparse_matrix.shape[0]\n",
        "    b_i=np.zeros(dim)\n",
        "    dim= train_sparse_matrix.shape[1]\n",
        "    c_j=np.zeros(dim)\n",
        "    mu = train_df['rating'].mean() # global average rating in train data\n",
        "    total_train_mse = []\n",
        "    total_test_mse = []\n",
        "    U1, Sigma, V1 = randomized_svd(train_sparse_matrix, n_components=svd_components,n_iter=2, random_state=24)\n",
        "    alpha = 10\n",
        "    for epoch in range(total_epochs):\n",
        "        for user,movie,rate in train_df[['user_id','movie_id','rating']].values:\n",
        "            b_i[user] = b_i[user] - learning_rate *  derivative_db(user,movie,rate,U1,V1,mu,alpha, b_i, c_j)\n",
        "            c_j[movie] = c_j[movie] - learning_rate *  derivative_dc(user,movie,rate,U1,V1,mu,alpha, b_i, c_j)\n",
        "        train_error = get_prediction(train_df,b_i,c_j,mu, U1, V1)\n",
        "        test_error = get_prediction(test_df,b_i,c_j,mu, U1, V1)\n",
        "        total_train_mse.append(train_error)\n",
        "        total_test_mse.append(test_error)\n",
        "    return total_train_mse, total_test_mse"
      ]
    },
    {
      "cell_type": "code",
      "execution_count": null,
      "metadata": {
        "id": "22xOxbUSYjCM"
      },
      "outputs": [],
      "source": [
        "train_mse, test_mse = fit_recommender(total_epochs = 10, learning_rate = 0.001,\n",
        "                train_sparse_matrix = train_sparse_matrix,\n",
        "                train_df = train_data,test_df=test_data,svd_components = 10)"
      ]
    },
    {
      "cell_type": "code",
      "source": [
        "plt.plot(train_mse,color =\"red\", label = \"Train error\")\n",
        "plt.plot(test_mse,color = \"blue\", label = \"Test error\")\n",
        "plt.legend(loc = \"best\")"
      ],
      "metadata": {
        "colab": {
          "base_uri": "https://localhost:8080/",
          "height": 282
        },
        "id": "FEFGPfCpaDXV",
        "outputId": "3c3f97ac-48b8-429b-db49-e70798a73205"
      },
      "execution_count": null,
      "outputs": [
        {
          "output_type": "execute_result",
          "data": {
            "text/plain": [
              "<matplotlib.legend.Legend at 0x7f259c538f90>"
            ]
          },
          "metadata": {},
          "execution_count": 50
        },
        {
          "output_type": "display_data",
          "data": {
            "text/plain": [
              "<Figure size 432x288 with 1 Axes>"
            ],
            "image/png": "[encoded data removed]"
          },
          "metadata": {
            "needs_background": "light"
          }
        }
      ]
    },
    {
      "cell_type": "code",
      "source": [
        "train_rmse = min(train_mse)\n",
        "test_rmse = min(test_mse)\n",
        "print(\"Train RMSE is : {} and Test RMSE : {}\".format(train_rmse,test_rmse))"
      ],
      "metadata": {
        "colab": {
          "base_uri": "https://localhost:8080/"
        },
        "id": "eftRbCE_chBW",
        "outputId": "3fd4037d-2035-45dc-eb0e-2530943571ae"
      },
      "execution_count": null,
      "outputs": [
        {
          "output_type": "stream",
          "name": "stdout",
          "text": [
            "Train RMSE is : 0.8722978566079136 and Test RMSE : 0.8732010118966119\n"
          ]
        }
      ]
    },
    {
      "cell_type": "markdown",
      "source": [
        "#Memory-Based"
      ],
      "metadata": {
        "id": "AjOc6dag2npK"
      }
    },
    {
      "cell_type": "code",
      "source": [
        "movies['movie_id'] = movies['movie_id'].apply(lambda x: x + 1)\n",
        "users['user_id'] = users['user_id'].apply(lambda x: x + 1)\n",
        "ratings['movie_id'] = ratings['movie_id'].apply(lambda x: x + 1)\n",
        "ratings['user_id'] = ratings['user_id'].apply(lambda x: x + 1)"
      ],
      "metadata": {
        "id": "6uWEE7l0oU3j"
      },
      "execution_count": null,
      "outputs": []
    },
    {
      "cell_type": "code",
      "source": [
        "#Create the rating matrix with rows as movies and columns as users.\n",
        "train_ratings_mat = np.zeros(\n",
        "    shape=(np.max(ratings.user_id.values), np.max(ratings.movie_id.values)),\n",
        "    dtype=np.float64)\n",
        "\n",
        "train_ratings_mat[train_data.user_id.values, train_data.movie_id.values] = train_data.rating.values\n",
        "\n",
        "test_ratings_mat = np.zeros(\n",
        "    shape=(np.max(ratings.user_id.values), np.max(ratings.movie_id.values)),\n",
        "    dtype=np.float64)\n",
        "\n",
        "test_ratings_mat[test_data.user_id.values, test_data.movie_id.values] = test_data.rating.values"
      ],
      "metadata": {
        "id": "C4B971ys3eco"
      },
      "execution_count": null,
      "outputs": []
    },
    {
      "cell_type": "markdown",
      "source": [
        "##User-Based"
      ],
      "metadata": {
        "id": "pYAFdcllo1B9"
      }
    },
    {
      "cell_type": "code",
      "source": [
        "n_user = np.max(ratings.user_id.values)\n",
        "nonzero_ind=[]\n",
        "for i in range(n_user):\n",
        "  nonzero_ind.append(list(np.array(train_ratings_mat[i]).nonzero()))"
      ],
      "metadata": {
        "id": "_o-IRUaiBlQ0"
      },
      "execution_count": null,
      "outputs": []
    },
    {
      "cell_type": "code",
      "source": [
        "def cosine_similarity(a, b):\n",
        "  x=nonzero_ind[a]\n",
        "  y=nonzero_ind[b]\n",
        "  ind=np.intersect1d(x,y)\n",
        "  A=train_ratings_mat[a][ind]\n",
        "  B=train_ratings_mat[b][ind]\n",
        "  cosine = np.dot(A,B)/(norm(A)*norm(B))\n",
        "  return cosine"
      ],
      "metadata": {
        "id": "RS87i5792qd2"
      },
      "execution_count": null,
      "outputs": []
    },
    {
      "cell_type": "code",
      "source": [
        "user_sim = np.zeros(shape=(np.max(n_user), np.max(n_user)),dtype=np.float64)\n",
        "\n",
        "for i in range(n_user):\n",
        "  for j in range(i):\n",
        "    user_sim[i][j]=cosine_similarity(i,j)\n",
        "    user_sim[j][i]=user_sim[i][j]"
      ],
      "metadata": {
        "colab": {
          "base_uri": "https://localhost:8080/"
        },
        "id": "zqC5bkhx6X1a",
        "outputId": "1c948157-3090-40d7-cfe7-b6457887c56b"
      },
      "execution_count": null,
      "outputs": [
        {
          "output_type": "stream",
          "name": "stderr",
          "text": [
            "/usr/local/lib/python3.7/dist-packages/ipykernel_launcher.py:7: RuntimeWarning: invalid value encountered in double_scalars\n",
            "  import sys\n"
          ]
        }
      ]
    },
    {
      "cell_type": "code",
      "source": [
        "def predict_rating(user, movie,k):\n",
        "  us = user_sim[user-1]\n",
        "  user_rank=np.argsort(us)[::-1]\n",
        "  i=0\n",
        "  rat=[]\n",
        "  for ind in user_rank:\n",
        "    if (us[ind]>0) and (train_ratings_mat[ind][movie-1]>0):\n",
        "      rat.append(train_ratings_mat[ind][movie-1])\n",
        "      i+=1\n",
        "    if i>k:\n",
        "      break\n",
        "  if rat==[]:\n",
        "    rat=train_data.rating.values.mean()\n",
        "  return np.mean(rat)"
      ],
      "metadata": {
        "id": "FT22sN3AJKeW"
      },
      "execution_count": null,
      "outputs": []
    },
    {
      "cell_type": "code",
      "source": [
        "def rmse(df,k):\n",
        "    '''calculates net rmse'''\n",
        "    y_true = []\n",
        "    y_pred = []\n",
        "    for user,movie,rate in df[['user_id','movie_id','rating']].values:\n",
        "        y_hat=predict_rating(user,movie,k)\n",
        "        y_true.append(rate)\n",
        "        y_pred.append(y_hat)\n",
        "    #ymin=min(y_pred)\n",
        "    #ymax=max(y_pred)\n",
        "    #y_pred=(y_pred-ymin)/(ymax-ymin)*4+1\n",
        "    return mean_squared_error(y_true,y_pred)"
      ],
      "metadata": {
        "id": "QMdQZaxrQ7ej"
      },
      "execution_count": null,
      "outputs": []
    },
    {
      "cell_type": "code",
      "source": [
        "train_total_error=[]\n",
        "test_total_error=[]\n",
        "for i in ([3,5,10,20]):\n",
        "  train_error=rmse(train_data,i)\n",
        "  test_error=rmse(test_data,i)\n",
        "  train_total_error.append(train_error)\n",
        "  test_total_error.append(test_error)"
      ],
      "metadata": {
        "id": "Xqt8SzE0WxZ2",
        "colab": {
          "base_uri": "https://localhost:8080/",
          "height": 375
        },
        "outputId": "b4c04660-2fc7-4a1c-b7f3-338787deab8f"
      },
      "execution_count": null,
      "outputs": [
        {
          "output_type": "error",
          "ename": "KeyboardInterrupt",
          "evalue": "ignored",
          "traceback": [
            "\u001b[0;31m---------------------------------------------------------------------------\u001b[0m",
            "\u001b[0;31mKeyboardInterrupt\u001b[0m                         Traceback (most recent call last)",
            "\u001b[0;32m<ipython-input-83-dddb19de3290>\u001b[0m in \u001b[0;36m<module>\u001b[0;34m()\u001b[0m\n\u001b[1;32m      2\u001b[0m \u001b[0mtest_total_error\u001b[0m\u001b[0;34m=\u001b[0m\u001b[0;34m[\u001b[0m\u001b[0;34m]\u001b[0m\u001b[0;34m\u001b[0m\u001b[0;34m\u001b[0m\u001b[0m\n\u001b[1;32m      3\u001b[0m \u001b[0;32mfor\u001b[0m \u001b[0mi\u001b[0m \u001b[0;32min\u001b[0m \u001b[0;34m(\u001b[0m\u001b[0;34m[\u001b[0m\u001b[0;36m3\u001b[0m\u001b[0;34m,\u001b[0m\u001b[0;36m5\u001b[0m\u001b[0;34m,\u001b[0m\u001b[0;36m10\u001b[0m\u001b[0;34m,\u001b[0m\u001b[0;36m20\u001b[0m\u001b[0;34m]\u001b[0m\u001b[0;34m)\u001b[0m\u001b[0;34m:\u001b[0m\u001b[0;34m\u001b[0m\u001b[0;34m\u001b[0m\u001b[0m\n\u001b[0;32m----> 4\u001b[0;31m   \u001b[0mtrain_error\u001b[0m\u001b[0;34m=\u001b[0m\u001b[0mrmse\u001b[0m\u001b[0;34m(\u001b[0m\u001b[0mtrain_data\u001b[0m\u001b[0;34m,\u001b[0m\u001b[0mi\u001b[0m\u001b[0;34m)\u001b[0m\u001b[0;34m\u001b[0m\u001b[0;34m\u001b[0m\u001b[0m\n\u001b[0m\u001b[1;32m      5\u001b[0m   \u001b[0mtest_error\u001b[0m\u001b[0;34m=\u001b[0m\u001b[0mrmse\u001b[0m\u001b[0;34m(\u001b[0m\u001b[0mtest_data\u001b[0m\u001b[0;34m,\u001b[0m\u001b[0mi\u001b[0m\u001b[0;34m)\u001b[0m\u001b[0;34m\u001b[0m\u001b[0;34m\u001b[0m\u001b[0m\n\u001b[1;32m      6\u001b[0m   \u001b[0mtrain_total_error\u001b[0m\u001b[0;34m.\u001b[0m\u001b[0mappend\u001b[0m\u001b[0;34m(\u001b[0m\u001b[0mtrain_error\u001b[0m\u001b[0;34m)\u001b[0m\u001b[0;34m\u001b[0m\u001b[0;34m\u001b[0m\u001b[0m\n",
            "\u001b[0;32m<ipython-input-81-fd878270065a>\u001b[0m in \u001b[0;36mrmse\u001b[0;34m(df, k)\u001b[0m\n\u001b[1;32m      4\u001b[0m     \u001b[0my_pred\u001b[0m \u001b[0;34m=\u001b[0m \u001b[0;34m[\u001b[0m\u001b[0;34m]\u001b[0m\u001b[0;34m\u001b[0m\u001b[0;34m\u001b[0m\u001b[0m\n\u001b[1;32m      5\u001b[0m     \u001b[0;32mfor\u001b[0m \u001b[0muser\u001b[0m\u001b[0;34m,\u001b[0m\u001b[0mmovie\u001b[0m\u001b[0;34m,\u001b[0m\u001b[0mrate\u001b[0m \u001b[0;32min\u001b[0m \u001b[0mdf\u001b[0m\u001b[0;34m[\u001b[0m\u001b[0;34m[\u001b[0m\u001b[0;34m'user_id'\u001b[0m\u001b[0;34m,\u001b[0m\u001b[0;34m'movie_id'\u001b[0m\u001b[0;34m,\u001b[0m\u001b[0;34m'rating'\u001b[0m\u001b[0;34m]\u001b[0m\u001b[0;34m]\u001b[0m\u001b[0;34m.\u001b[0m\u001b[0mvalues\u001b[0m\u001b[0;34m:\u001b[0m\u001b[0;34m\u001b[0m\u001b[0;34m\u001b[0m\u001b[0m\n\u001b[0;32m----> 6\u001b[0;31m         \u001b[0my_hat\u001b[0m\u001b[0;34m=\u001b[0m\u001b[0mpredict_rating\u001b[0m\u001b[0;34m(\u001b[0m\u001b[0muser\u001b[0m\u001b[0;34m,\u001b[0m\u001b[0mmovie\u001b[0m\u001b[0;34m,\u001b[0m\u001b[0mk\u001b[0m\u001b[0;34m)\u001b[0m\u001b[0;34m\u001b[0m\u001b[0;34m\u001b[0m\u001b[0m\n\u001b[0m\u001b[1;32m      7\u001b[0m         \u001b[0my_true\u001b[0m\u001b[0;34m.\u001b[0m\u001b[0mappend\u001b[0m\u001b[0;34m(\u001b[0m\u001b[0mrate\u001b[0m\u001b[0;34m)\u001b[0m\u001b[0;34m\u001b[0m\u001b[0;34m\u001b[0m\u001b[0m\n\u001b[1;32m      8\u001b[0m         \u001b[0my_pred\u001b[0m\u001b[0;34m.\u001b[0m\u001b[0mappend\u001b[0m\u001b[0;34m(\u001b[0m\u001b[0my_hat\u001b[0m\u001b[0;34m)\u001b[0m\u001b[0;34m\u001b[0m\u001b[0;34m\u001b[0m\u001b[0m\n",
            "\u001b[0;32m<ipython-input-80-aef9aa86e719>\u001b[0m in \u001b[0;36mpredict_rating\u001b[0;34m(user, movie, k)\u001b[0m\n\u001b[1;32m      5\u001b[0m   \u001b[0mrat\u001b[0m\u001b[0;34m=\u001b[0m\u001b[0;34m[\u001b[0m\u001b[0;34m]\u001b[0m\u001b[0;34m\u001b[0m\u001b[0;34m\u001b[0m\u001b[0m\n\u001b[1;32m      6\u001b[0m   \u001b[0;32mfor\u001b[0m \u001b[0mind\u001b[0m \u001b[0;32min\u001b[0m \u001b[0muser_rank\u001b[0m\u001b[0;34m:\u001b[0m\u001b[0;34m\u001b[0m\u001b[0;34m\u001b[0m\u001b[0m\n\u001b[0;32m----> 7\u001b[0;31m     \u001b[0;32mif\u001b[0m \u001b[0;34m(\u001b[0m\u001b[0mus\u001b[0m\u001b[0;34m[\u001b[0m\u001b[0mind\u001b[0m\u001b[0;34m]\u001b[0m\u001b[0;34m>\u001b[0m\u001b[0;36m0\u001b[0m\u001b[0;34m)\u001b[0m \u001b[0;32mand\u001b[0m \u001b[0;34m(\u001b[0m\u001b[0mtrain_ratings_mat\u001b[0m\u001b[0;34m[\u001b[0m\u001b[0mind\u001b[0m\u001b[0;34m]\u001b[0m\u001b[0;34m[\u001b[0m\u001b[0mmovie\u001b[0m\u001b[0;34m-\u001b[0m\u001b[0;36m1\u001b[0m\u001b[0;34m]\u001b[0m\u001b[0;34m>\u001b[0m\u001b[0;36m0\u001b[0m\u001b[0;34m)\u001b[0m\u001b[0;34m:\u001b[0m\u001b[0;34m\u001b[0m\u001b[0;34m\u001b[0m\u001b[0m\n\u001b[0m\u001b[1;32m      8\u001b[0m       \u001b[0mrat\u001b[0m\u001b[0;34m.\u001b[0m\u001b[0mappend\u001b[0m\u001b[0;34m(\u001b[0m\u001b[0mtrain_ratings_mat\u001b[0m\u001b[0;34m[\u001b[0m\u001b[0mind\u001b[0m\u001b[0;34m]\u001b[0m\u001b[0;34m[\u001b[0m\u001b[0mmovie\u001b[0m\u001b[0;34m-\u001b[0m\u001b[0;36m1\u001b[0m\u001b[0;34m]\u001b[0m\u001b[0;34m)\u001b[0m\u001b[0;34m\u001b[0m\u001b[0;34m\u001b[0m\u001b[0m\n\u001b[1;32m      9\u001b[0m       \u001b[0mi\u001b[0m\u001b[0;34m+=\u001b[0m\u001b[0;36m1\u001b[0m\u001b[0;34m\u001b[0m\u001b[0;34m\u001b[0m\u001b[0m\n",
            "\u001b[0;31mKeyboardInterrupt\u001b[0m: "
          ]
        }
      ]
    },
    {
      "cell_type": "code",
      "source": [
        "plt.plot([3,5,10,20],train_total_error,color =\"red\", label = \"Train error\")\n",
        "plt.plot([3,5,10,20],test_total_error,color =\"blue\", label = \"Test error\")\n",
        "plt.legend(loc = \"best\")"
      ],
      "metadata": {
        "id": "Z2Vo8L_0_E-G",
        "colab": {
          "base_uri": "https://localhost:8080/",
          "height": 610
        },
        "outputId": "683c676f-ab34-4ba0-b111-6023e18b8deb"
      },
      "execution_count": null,
      "outputs": [
        {
          "output_type": "error",
          "ename": "ValueError",
          "evalue": "ignored",
          "traceback": [
            "\u001b[0;31m---------------------------------------------------------------------------\u001b[0m",
            "\u001b[0;31mValueError\u001b[0m                                Traceback (most recent call last)",
            "\u001b[0;32m<ipython-input-84-e6b571944b30>\u001b[0m in \u001b[0;36m<module>\u001b[0;34m()\u001b[0m\n\u001b[0;32m----> 1\u001b[0;31m \u001b[0mplt\u001b[0m\u001b[0;34m.\u001b[0m\u001b[0mplot\u001b[0m\u001b[0;34m(\u001b[0m\u001b[0;34m[\u001b[0m\u001b[0;36m3\u001b[0m\u001b[0;34m,\u001b[0m\u001b[0;36m5\u001b[0m\u001b[0;34m,\u001b[0m\u001b[0;36m10\u001b[0m\u001b[0;34m,\u001b[0m\u001b[0;36m20\u001b[0m\u001b[0;34m]\u001b[0m\u001b[0;34m,\u001b[0m\u001b[0mtrain_total_error\u001b[0m\u001b[0;34m,\u001b[0m\u001b[0mcolor\u001b[0m \u001b[0;34m=\u001b[0m\u001b[0;34m\"red\"\u001b[0m\u001b[0;34m,\u001b[0m \u001b[0mlabel\u001b[0m \u001b[0;34m=\u001b[0m \u001b[0;34m\"Train error\"\u001b[0m\u001b[0;34m)\u001b[0m\u001b[0;34m\u001b[0m\u001b[0;34m\u001b[0m\u001b[0m\n\u001b[0m\u001b[1;32m      2\u001b[0m \u001b[0mplt\u001b[0m\u001b[0;34m.\u001b[0m\u001b[0mplot\u001b[0m\u001b[0;34m(\u001b[0m\u001b[0;34m[\u001b[0m\u001b[0;36m3\u001b[0m\u001b[0;34m,\u001b[0m\u001b[0;36m5\u001b[0m\u001b[0;34m,\u001b[0m\u001b[0;36m10\u001b[0m\u001b[0;34m,\u001b[0m\u001b[0;36m20\u001b[0m\u001b[0;34m]\u001b[0m\u001b[0;34m,\u001b[0m\u001b[0mtest_total_error\u001b[0m\u001b[0;34m,\u001b[0m\u001b[0mcolor\u001b[0m \u001b[0;34m=\u001b[0m\u001b[0;34m\"blue\"\u001b[0m\u001b[0;34m,\u001b[0m \u001b[0mlabel\u001b[0m \u001b[0;34m=\u001b[0m \u001b[0;34m\"Test error\"\u001b[0m\u001b[0;34m)\u001b[0m\u001b[0;34m\u001b[0m\u001b[0;34m\u001b[0m\u001b[0m\n\u001b[1;32m      3\u001b[0m \u001b[0mplt\u001b[0m\u001b[0;34m.\u001b[0m\u001b[0mlegend\u001b[0m\u001b[0;34m(\u001b[0m\u001b[0mloc\u001b[0m \u001b[0;34m=\u001b[0m \u001b[0;34m\"best\"\u001b[0m\u001b[0;34m)\u001b[0m\u001b[0;34m\u001b[0m\u001b[0;34m\u001b[0m\u001b[0m\n",
            "\u001b[0;32m/usr/local/lib/python3.7/dist-packages/matplotlib/pyplot.py\u001b[0m in \u001b[0;36mplot\u001b[0;34m(scalex, scaley, data, *args, **kwargs)\u001b[0m\n\u001b[1;32m   2761\u001b[0m     return gca().plot(\n\u001b[1;32m   2762\u001b[0m         *args, scalex=scalex, scaley=scaley, **({\"data\": data} if data\n\u001b[0;32m-> 2763\u001b[0;31m         is not None else {}), **kwargs)\n\u001b[0m\u001b[1;32m   2764\u001b[0m \u001b[0;34m\u001b[0m\u001b[0m\n\u001b[1;32m   2765\u001b[0m \u001b[0;34m\u001b[0m\u001b[0m\n",
            "\u001b[0;32m/usr/local/lib/python3.7/dist-packages/matplotlib/axes/_axes.py\u001b[0m in \u001b[0;36mplot\u001b[0;34m(self, scalex, scaley, data, *args, **kwargs)\u001b[0m\n\u001b[1;32m   1645\u001b[0m         \"\"\"\n\u001b[1;32m   1646\u001b[0m         \u001b[0mkwargs\u001b[0m \u001b[0;34m=\u001b[0m \u001b[0mcbook\u001b[0m\u001b[0;34m.\u001b[0m\u001b[0mnormalize_kwargs\u001b[0m\u001b[0;34m(\u001b[0m\u001b[0mkwargs\u001b[0m\u001b[0;34m,\u001b[0m \u001b[0mmlines\u001b[0m\u001b[0;34m.\u001b[0m\u001b[0mLine2D\u001b[0m\u001b[0;34m)\u001b[0m\u001b[0;34m\u001b[0m\u001b[0;34m\u001b[0m\u001b[0m\n\u001b[0;32m-> 1647\u001b[0;31m         \u001b[0mlines\u001b[0m \u001b[0;34m=\u001b[0m \u001b[0;34m[\u001b[0m\u001b[0;34m*\u001b[0m\u001b[0mself\u001b[0m\u001b[0;34m.\u001b[0m\u001b[0m_get_lines\u001b[0m\u001b[0;34m(\u001b[0m\u001b[0;34m*\u001b[0m\u001b[0margs\u001b[0m\u001b[0;34m,\u001b[0m \u001b[0mdata\u001b[0m\u001b[0;34m=\u001b[0m\u001b[0mdata\u001b[0m\u001b[0;34m,\u001b[0m \u001b[0;34m**\u001b[0m\u001b[0mkwargs\u001b[0m\u001b[0;34m)\u001b[0m\u001b[0;34m]\u001b[0m\u001b[0;34m\u001b[0m\u001b[0;34m\u001b[0m\u001b[0m\n\u001b[0m\u001b[1;32m   1648\u001b[0m         \u001b[0;32mfor\u001b[0m \u001b[0mline\u001b[0m \u001b[0;32min\u001b[0m \u001b[0mlines\u001b[0m\u001b[0;34m:\u001b[0m\u001b[0;34m\u001b[0m\u001b[0;34m\u001b[0m\u001b[0m\n\u001b[1;32m   1649\u001b[0m             \u001b[0mself\u001b[0m\u001b[0;34m.\u001b[0m\u001b[0madd_line\u001b[0m\u001b[0;34m(\u001b[0m\u001b[0mline\u001b[0m\u001b[0;34m)\u001b[0m\u001b[0;34m\u001b[0m\u001b[0;34m\u001b[0m\u001b[0m\n",
            "\u001b[0;32m/usr/local/lib/python3.7/dist-packages/matplotlib/axes/_base.py\u001b[0m in \u001b[0;36m__call__\u001b[0;34m(self, *args, **kwargs)\u001b[0m\n\u001b[1;32m    214\u001b[0m                 \u001b[0mthis\u001b[0m \u001b[0;34m+=\u001b[0m \u001b[0margs\u001b[0m\u001b[0;34m[\u001b[0m\u001b[0;36m0\u001b[0m\u001b[0;34m]\u001b[0m\u001b[0;34m,\u001b[0m\u001b[0;34m\u001b[0m\u001b[0;34m\u001b[0m\u001b[0m\n\u001b[1;32m    215\u001b[0m                 \u001b[0margs\u001b[0m \u001b[0;34m=\u001b[0m \u001b[0margs\u001b[0m\u001b[0;34m[\u001b[0m\u001b[0;36m1\u001b[0m\u001b[0;34m:\u001b[0m\u001b[0;34m]\u001b[0m\u001b[0;34m\u001b[0m\u001b[0;34m\u001b[0m\u001b[0m\n\u001b[0;32m--> 216\u001b[0;31m             \u001b[0;32myield\u001b[0m \u001b[0;32mfrom\u001b[0m \u001b[0mself\u001b[0m\u001b[0;34m.\u001b[0m\u001b[0m_plot_args\u001b[0m\u001b[0;34m(\u001b[0m\u001b[0mthis\u001b[0m\u001b[0;34m,\u001b[0m \u001b[0mkwargs\u001b[0m\u001b[0;34m)\u001b[0m\u001b[0;34m\u001b[0m\u001b[0;34m\u001b[0m\u001b[0m\n\u001b[0m\u001b[1;32m    217\u001b[0m \u001b[0;34m\u001b[0m\u001b[0m\n\u001b[1;32m    218\u001b[0m     \u001b[0;32mdef\u001b[0m \u001b[0mget_next_color\u001b[0m\u001b[0;34m(\u001b[0m\u001b[0mself\u001b[0m\u001b[0;34m)\u001b[0m\u001b[0;34m:\u001b[0m\u001b[0;34m\u001b[0m\u001b[0;34m\u001b[0m\u001b[0m\n",
            "\u001b[0;32m/usr/local/lib/python3.7/dist-packages/matplotlib/axes/_base.py\u001b[0m in \u001b[0;36m_plot_args\u001b[0;34m(self, tup, kwargs)\u001b[0m\n\u001b[1;32m    340\u001b[0m \u001b[0;34m\u001b[0m\u001b[0m\n\u001b[1;32m    341\u001b[0m         \u001b[0;32mif\u001b[0m \u001b[0mx\u001b[0m\u001b[0;34m.\u001b[0m\u001b[0mshape\u001b[0m\u001b[0;34m[\u001b[0m\u001b[0;36m0\u001b[0m\u001b[0;34m]\u001b[0m \u001b[0;34m!=\u001b[0m \u001b[0my\u001b[0m\u001b[0;34m.\u001b[0m\u001b[0mshape\u001b[0m\u001b[0;34m[\u001b[0m\u001b[0;36m0\u001b[0m\u001b[0;34m]\u001b[0m\u001b[0;34m:\u001b[0m\u001b[0;34m\u001b[0m\u001b[0;34m\u001b[0m\u001b[0m\n\u001b[0;32m--> 342\u001b[0;31m             raise ValueError(f\"x and y must have same first dimension, but \"\n\u001b[0m\u001b[1;32m    343\u001b[0m                              f\"have shapes {x.shape} and {y.shape}\")\n\u001b[1;32m    344\u001b[0m         \u001b[0;32mif\u001b[0m \u001b[0mx\u001b[0m\u001b[0;34m.\u001b[0m\u001b[0mndim\u001b[0m \u001b[0;34m>\u001b[0m \u001b[0;36m2\u001b[0m \u001b[0;32mor\u001b[0m \u001b[0my\u001b[0m\u001b[0;34m.\u001b[0m\u001b[0mndim\u001b[0m \u001b[0;34m>\u001b[0m \u001b[0;36m2\u001b[0m\u001b[0;34m:\u001b[0m\u001b[0;34m\u001b[0m\u001b[0;34m\u001b[0m\u001b[0m\n",
            "\u001b[0;31mValueError\u001b[0m: x and y must have same first dimension, but have shapes (4,) and (0,)"
          ]
        },
        {
          "output_type": "display_data",
          "data": {
            "text/plain": [
              "<Figure size 432x288 with 1 Axes>"
            ],
            "image/png": "[encoded data removed]"
          },
          "metadata": {
            "needs_background": "light"
          }
        }
      ]
    },
    {
      "cell_type": "markdown",
      "source": [
        "##Item-Based"
      ],
      "metadata": {
        "id": "UvAlPSBec1Cv"
      }
    },
    {
      "cell_type": "code",
      "source": [
        "n_movie = np.max(ratings.movie_id.values)\n",
        "nonzero_ind_m=[]\n",
        "for i in range(n_movie):\n",
        "  nonzero_ind_m.append(list(np.array(train_ratings_mat[:,i]).nonzero()))"
      ],
      "metadata": {
        "id": "isv7Y4oFc1C0"
      },
      "execution_count": null,
      "outputs": []
    },
    {
      "cell_type": "code",
      "source": [
        "def cosine_similarity_m(a, b):\n",
        "  x=nonzero_ind_m[a]\n",
        "  y=nonzero_ind_m[b]\n",
        "  ind=np.intersect1d(x,y)\n",
        "  A=train_ratings_mat[:,a][ind]\n",
        "  B=train_ratings_mat[:,b][ind]\n",
        "  cosine = np.dot(A,B)/(norm(A)*norm(B))\n",
        "  return cosine"
      ],
      "metadata": {
        "id": "YEnFgzktc1C0"
      },
      "execution_count": null,
      "outputs": []
    },
    {
      "cell_type": "code",
      "source": [
        "movie_sim = np.zeros(shape=(np.max(n_movie), np.max(n_movie)),dtype=np.float64)\n",
        "\n",
        "for i in range(n_movie):\n",
        "  for j in range(i):\n",
        "    movie_sim[i][j]=cosine_similarity_m(i,j)\n",
        "    movie_sim[j][i]=movie_sim[i][j]"
      ],
      "metadata": {
        "colab": {
          "base_uri": "https://localhost:8080/"
        },
        "outputId": "c9c79825-26a4-4f00-e478-22ca231625f5",
        "id": "JkGdF9RLc1C0"
      },
      "execution_count": null,
      "outputs": [
        {
          "output_type": "stream",
          "name": "stderr",
          "text": [
            "/usr/local/lib/python3.7/dist-packages/ipykernel_launcher.py:7: RuntimeWarning: invalid value encountered in double_scalars\n",
            "  import sys\n"
          ]
        }
      ]
    },
    {
      "cell_type": "code",
      "source": [
        "def predict_rating_m(user, movie,k):\n",
        "  ms = movie_sim[movie-1]\n",
        "  movie_rank=np.argsort(ms)[::-1]\n",
        "  i=0\n",
        "  rat=[]\n",
        "  for ind in movie_rank:\n",
        "    if (ms[ind]>0) and (train_ratings_mat[user-1][ind]>0):\n",
        "      rat.append(train_ratings_mat[user-1][ind])\n",
        "      i+=1\n",
        "    if i>k:\n",
        "      break\n",
        "  if rat==[]:\n",
        "    rat=train_data.rating.values.mean()\n",
        "  return np.mean(rat)"
      ],
      "metadata": {
        "id": "W9GGFWhqc1C1"
      },
      "execution_count": null,
      "outputs": []
    },
    {
      "cell_type": "code",
      "source": [
        "def rmse_m(df,k):\n",
        "    '''calculates net rmse'''\n",
        "    y_true = []\n",
        "    y_pred = []\n",
        "    for user,movie,rate in df[['user_id','movie_id','rating']].values:\n",
        "        y_hat=predict_rating_m(user,movie,k)\n",
        "        y_true.append(rate)\n",
        "        y_pred.append(y_hat)\n",
        "    return mean_squared_error(y_true,y_pred)"
      ],
      "metadata": {
        "id": "gc2bnXvMc1C1"
      },
      "execution_count": null,
      "outputs": []
    },
    {
      "cell_type": "code",
      "source": [
        "train_total_error_m=[]\n",
        "test_total_error_m=[]\n",
        "for i in ([3,5,10,20]):\n",
        "  train_error=rmse_m(train_data,i)\n",
        "  test_error=rmse_m(test_data,i)\n",
        "  train_total_error_m.append(train_error)\n",
        "  test_total_error_m.append(test_error)"
      ],
      "metadata": {
        "id": "wg-5oI6Oc1C1"
      },
      "execution_count": null,
      "outputs": []
    },
    {
      "cell_type": "code",
      "source": [
        "plt.plot([3,5,10,20],train_total_error_m,color =\"red\", label = \"Train error\")\n",
        "plt.plot([3,5,10,20],test_total_error_m,color =\"blue\", label = \"Test error\")\n",
        "plt.legend(loc = \"best\")"
      ],
      "metadata": {
        "id": "HlZYCBUlacBJ"
      },
      "execution_count": null,
      "outputs": []
    }
  ],
  "metadata": {
    "colab": {
      "provenance": []
    },
    "kernelspec": {
      "display_name": "Python 3",
      "name": "python3"
    },
    "language_info": {
      "name": "python"
    }
  },
  "nbformat": 4,
  "nbformat_minor": 0
}